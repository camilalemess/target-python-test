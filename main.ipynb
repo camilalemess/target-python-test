{
 "cells": [
  {
   "cell_type": "code",
   "execution_count": 1,
   "metadata": {},
   "outputs": [
    {
     "name": "stdout",
     "output_type": "stream",
     "text": [
      "91\n"
     ]
    }
   ],
   "source": [
    "# Este código calcula a soma dos números inteiros de 1 até 13 utilizando um loop while.\n",
    "# Inicializa as variáveis INDICE, SOMA e K.\n",
    "# Enquanto K for menor que INDICE, incrementa K e adiciona o valor de K a SOMA.\n",
    "# Após o loop, imprime o valor final de SOMA.\n",
    "\n",
    "INDICE = 13\n",
    "SOMA = 0\n",
    "K = 0\n",
    "\n",
    "while K < INDICE:\n",
    "    K += 1\n",
    "    SOMA += K\n",
    "print(SOMA)"
   ]
  },
  {
   "cell_type": "code",
   "execution_count": 2,
   "metadata": {},
   "outputs": [
    {
     "name": "stdout",
     "output_type": "stream",
     "text": [
      "O número 21 pertence à sequência de Fibonacci.\n"
     ]
    }
   ],
   "source": [
    "def pertence_a_fibonacci(num):\n",
    "    if num < 0:\n",
    "        return False\n",
    "    \n",
    "    a, b = 0, 1\n",
    "    while a <= num:\n",
    "        if a == num:\n",
    "            return True\n",
    "        a, b = b, a + b\n",
    "    \n",
    "    return False\n",
    "\n",
    "# Solicita ao usuário que insira um número\n",
    "entrada = int(input(\"Digite um número para verificar se pertence à sequência de Fibonacci: \"))\n",
    "\n",
    "# Verifica se o número pertence à sequência de Fibonacci\n",
    "if pertence_a_fibonacci(entrada):\n",
    "    print(f\"O número {entrada} pertence à sequência de Fibonacci.\")\n",
    "else:\n",
    "    print(f\"O número {entrada} não pertence à sequência de Fibonacci.\")\n"
   ]
  },
  {
   "cell_type": "code",
   "execution_count": 2,
   "metadata": {},
   "outputs": [
    {
     "name": "stdout",
     "output_type": "stream",
     "text": [
      "Menor valor de faturamento: R$373.78\n",
      "Maior valor de faturamento: R$48924.24\n",
      "Número de dias com faturamento acima da média mensal: 10\n"
     ]
    }
   ],
   "source": [
    "import json\n",
    "\n",
    "# Função para carregar os dados de faturamento do arquivo JSON\n",
    "def carregar_dados_json(caminho_arquivo):\n",
    "    with open(caminho_arquivo, 'r') as arquivo:\n",
    "        return json.load(arquivo)\n",
    "\n",
    "# Função para calcular o menor e maior valor de faturamento e o número de dias acima da média\n",
    "def analisar_faturamento(dados):\n",
    "    faturamentos = [dia['valor'] for dia in dados if dia['valor'] > 0]  # Filtra dias com faturamento positivo\n",
    "    \n",
    "    if not faturamentos:\n",
    "        return None, None, 0  # Se não houver dados, retorna valores nulos e 0\n",
    "    \n",
    "    menor_faturamento = min(faturamentos)\n",
    "    maior_faturamento = max(faturamentos)\n",
    "    media_mensal = sum(faturamentos) / len(faturamentos)\n",
    "    \n",
    "    dias_acima_da_media = sum(1 for dia in faturamentos if dia > media_mensal)\n",
    "    \n",
    "    return menor_faturamento, maior_faturamento, dias_acima_da_media\n",
    "\n",
    "# Exemplo de uso\n",
    "caminho_arquivo = 'faturamento.json'  # Caminho para o arquivo JSON\n",
    "dados_faturamento = carregar_dados_json(\"dados.json\")\n",
    "\n",
    "menor, maior, dias_acima_da_media = analisar_faturamento(dados_faturamento)\n",
    "\n",
    "print(f\"Menor valor de faturamento: R${menor:.2f}\")\n",
    "print(f\"Maior valor de faturamento: R${maior:.2f}\")\n",
    "print(f\"Número de dias com faturamento acima da média mensal: {dias_acima_da_media}\")"
   ]
  },
  {
   "cell_type": "code",
   "execution_count": null,
   "metadata": {},
   "outputs": [
    {
     "name": "stdout",
     "output_type": "stream",
     "text": [
      "SP: 37.53%\n",
      "RJ: 20.29%\n",
      "MG: 16.17%\n",
      "ES: 15.03%\n",
      "Outros: 10.98%\n"
     ]
    }
   ],
   "source": [
    "# Dicionário com os valores de faturamento por estado\n",
    "faturamento_por_estado = {\n",
    "    \"SP\": 67836.43,\n",
    "    \"RJ\": 36678.66,\n",
    "    \"MG\": 29229.88,\n",
    "    \"ES\": 27165.48,\n",
    "    \"Outros\": 19849.53\n",
    "}\n",
    "\n",
    "# Função para calcular o percentual de representação de cada estado\n",
    "def calcular_percentuais(faturamento):\n",
    "    total_faturamento = sum(faturamento.values())\n",
    "    \n",
    "    percentuais = {}\n",
    "    for estado, valor in faturamento.items():\n",
    "        percentual = (valor / total_faturamento) * 100\n",
    "        percentuais[estado] = percentual\n",
    "    \n",
    "    return percentuais\n",
    "\n",
    "# Calcula os percentuais\n",
    "percentuais_estado = calcular_percentuais(faturamento_por_estado)\n",
    "\n",
    "# Exibe os resultados\n",
    "for estado, percentual in percentuais_estado.items():\n",
    "    print(f\"{estado}: {percentual:.2f}%\")\n"
   ]
  },
  {
   "cell_type": "code",
   "execution_count": 4,
   "metadata": {},
   "outputs": [
    {
     "name": "stdout",
     "output_type": "stream",
     "text": [
      "String invertida: olpmexe\n"
     ]
    }
   ],
   "source": [
    "# Função para inverter os caracteres de uma string\n",
    "def inverter_string(s):\n",
    "    string_invertida = \"\"\n",
    "    for char in s:\n",
    "        string_invertida = char + string_invertida\n",
    "    return string_invertida\n",
    "\n",
    "# Solicita ao usuário que insira uma string\n",
    "entrada_usuario = input(\"Digite uma string para inverter: \")\n",
    "\n",
    "# Inverte a string e exibe o resultado\n",
    "string_invertida = inverter_string(entrada_usuario)\n",
    "print(\"String invertida:\", string_invertida)"
   ]
  }
 ],
 "metadata": {
  "kernelspec": {
   "display_name": "Python 3",
   "language": "python",
   "name": "python3"
  },
  "language_info": {
   "codemirror_mode": {
    "name": "ipython",
    "version": 3
   },
   "file_extension": ".py",
   "mimetype": "text/x-python",
   "name": "python",
   "nbconvert_exporter": "python",
   "pygments_lexer": "ipython3",
   "version": "3.12.2"
  }
 },
 "nbformat": 4,
 "nbformat_minor": 2
}
